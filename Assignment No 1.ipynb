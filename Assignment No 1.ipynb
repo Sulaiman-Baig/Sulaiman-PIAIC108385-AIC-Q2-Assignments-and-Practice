{
 "cells": [
  {
   "cell_type": "code",
   "execution_count": 3,
   "metadata": {},
   "outputs": [
    {
     "name": "stdout",
     "output_type": "stream",
     "text": [
      "Hello World\n"
     ]
    }
   ],
   "source": [
    "print('Hello World')"
   ]
  },
  {
   "cell_type": "code",
   "execution_count": 2,
   "metadata": {},
   "outputs": [
    {
     "name": "stdout",
     "output_type": "stream",
     "text": [
      "Can I go on Git Hub Repo\n"
     ]
    }
   ],
   "source": [
    "print('Can I go on Git Hub Repo')"
   ]
  },
  {
   "cell_type": "code",
   "execution_count": 4,
   "metadata": {},
   "outputs": [],
   "source": [
    "# 1 - Import the numpy package under the name np\n",
    "import numpy as np"
   ]
  },
  {
   "cell_type": "code",
   "execution_count": 5,
   "metadata": {},
   "outputs": [
    {
     "data": {
      "text/plain": [
       "array([0., 0., 0., 0., 0., 0., 0., 0., 0., 0.])"
      ]
     },
     "execution_count": 5,
     "metadata": {},
     "output_type": "execute_result"
    }
   ],
   "source": [
    "# 2 - Create a null vector of size 10\n",
    "null_vector = np.zeros(10) # https://numpy.org/doc/stable/reference/generated/numpy.zeros.html\n",
    "null_vector"
   ]
  },
  {
   "cell_type": "code",
   "execution_count": 8,
   "metadata": {},
   "outputs": [
    {
     "data": {
      "text/plain": [
       "array([0, 0, 0, 0, 0, 0, 0, 0, 0, 0])"
      ]
     },
     "execution_count": 8,
     "metadata": {},
     "output_type": "execute_result"
    }
   ],
   "source": [
    "# 2 - Create a null vector of size 10 (Let's try to change its data type)\n",
    "null_vector = np.zeros(10, dtype= int)\n",
    "null_vector"
   ]
  },
  {
   "cell_type": "code",
   "execution_count": 22,
   "metadata": {},
   "outputs": [
    {
     "data": {
      "text/plain": [
       "array([10, 11, 12, 13, 14, 15, 16, 17, 18, 19, 20, 21, 22, 23, 24, 25, 26,\n",
       "       27, 28, 29, 30, 31, 32, 33, 34, 35, 36, 37, 38, 39, 40, 41, 42, 43,\n",
       "       44, 45, 46, 47, 48, 49])"
      ]
     },
     "execution_count": 22,
     "metadata": {},
     "output_type": "execute_result"
    }
   ],
   "source": [
    "# 3 - Create a vector with values ranging from 10 to 49\n",
    "x = np.arange(10,50) # https://numpy.org/doc/stable/reference/generated/numpy.arange.html\n",
    "x"
   ]
  },
  {
   "cell_type": "code",
   "execution_count": 12,
   "metadata": {},
   "outputs": [
    {
     "data": {
      "text/plain": [
       "1"
      ]
     },
     "execution_count": 12,
     "metadata": {},
     "output_type": "execute_result"
    }
   ],
   "source": [
    "# 4 - Find the shape of previous array in question 3\n",
    "x.shape # https://numpy.org/doc/stable/reference/generated/numpy.ndarray.shape.html#:~:text=The%20shape%20property%20is%20usually,As%20with%20numpy."
   ]
  },
  {
   "cell_type": "code",
   "execution_count": 23,
   "metadata": {},
   "outputs": [
    {
     "data": {
      "text/plain": [
       "dtype('int32')"
      ]
     },
     "execution_count": 23,
     "metadata": {},
     "output_type": "execute_result"
    }
   ],
   "source": [
    "# 5 - Print the type of the previous array in question 3\n",
    "x.dtype # https://numpy.org/doc/stable/reference/generated/numpy.dtype.html"
   ]
  },
  {
   "cell_type": "code",
   "execution_count": 30,
   "metadata": {},
   "outputs": [
    {
     "name": "stdout",
     "output_type": "stream",
     "text": [
      "Numpy version is 1.19.4\n",
      "blas_mkl_info:\n",
      "  NOT AVAILABLE\n",
      "blis_info:\n",
      "  NOT AVAILABLE\n",
      "openblas_info:\n",
      "    library_dirs = ['D:\\\\a\\\\1\\\\s\\\\numpy\\\\build\\\\openblas_info']\n",
      "    libraries = ['openblas_info']\n",
      "    language = f77\n",
      "    define_macros = [('HAVE_CBLAS', None)]\n",
      "blas_opt_info:\n",
      "    library_dirs = ['D:\\\\a\\\\1\\\\s\\\\numpy\\\\build\\\\openblas_info']\n",
      "    libraries = ['openblas_info']\n",
      "    language = f77\n",
      "    define_macros = [('HAVE_CBLAS', None)]\n",
      "lapack_mkl_info:\n",
      "  NOT AVAILABLE\n",
      "openblas_lapack_info:\n",
      "    library_dirs = ['D:\\\\a\\\\1\\\\s\\\\numpy\\\\build\\\\openblas_lapack_info']\n",
      "    libraries = ['openblas_lapack_info']\n",
      "    language = f77\n",
      "    define_macros = [('HAVE_CBLAS', None)]\n",
      "lapack_opt_info:\n",
      "    library_dirs = ['D:\\\\a\\\\1\\\\s\\\\numpy\\\\build\\\\openblas_lapack_info']\n",
      "    libraries = ['openblas_lapack_info']\n",
      "    language = f77\n",
      "    define_macros = [('HAVE_CBLAS', None)]\n",
      "None\n"
     ]
    }
   ],
   "source": [
    "# 6 - Print the numpy version and the configuration\n",
    "print('Numpy version is',np.__version__)\n",
    "print(np.show_config())"
   ]
  },
  {
   "cell_type": "code",
   "execution_count": 31,
   "metadata": {},
   "outputs": [
    {
     "data": {
      "text/plain": [
       "1"
      ]
     },
     "execution_count": 31,
     "metadata": {},
     "output_type": "execute_result"
    }
   ],
   "source": [
    "# 7 - Print the dimension of the array in question 3\n",
    "x.ndim # https://numpy.org/doc/stable/reference/generated/numpy.ndarray.ndim.html"
   ]
  },
  {
   "cell_type": "code",
   "execution_count": 38,
   "metadata": {},
   "outputs": [
    {
     "data": {
      "text/plain": [
       "array([ True,  True,  True,  True,  True,  True,  True,  True,  True,\n",
       "        True])"
      ]
     },
     "execution_count": 38,
     "metadata": {},
     "output_type": "execute_result"
    }
   ],
   "source": [
    "# 8 - Create a boolean array with all the True values\n",
    "bool_arr = np.ones(10, dtype=bool) # https://numpy.org/doc/stable/reference/generated/numpy.ones.html\n",
    "bool_arr"
   ]
  },
  {
   "cell_type": "code",
   "execution_count": 40,
   "metadata": {},
   "outputs": [
    {
     "data": {
      "text/plain": [
       "array([[0, 1, 2, 3, 4],\n",
       "       [5, 6, 7, 8, 9]])"
      ]
     },
     "execution_count": 40,
     "metadata": {},
     "output_type": "execute_result"
    }
   ],
   "source": [
    "# 9 - Create a two dimensional array\n",
    "two_d_arr = np.arange(10).reshape(2,5) # https://numpy.org/doc/stable/reference/generated/numpy.reshape.html\n",
    "two_d_arr"
   ]
  },
  {
   "cell_type": "code",
   "execution_count": 41,
   "metadata": {},
   "outputs": [
    {
     "data": {
      "text/plain": [
       "array([[ 1,  2,  3,  4,  5],\n",
       "       [11, 22, 33, 44, 55]])"
      ]
     },
     "execution_count": 41,
     "metadata": {},
     "output_type": "execute_result"
    }
   ],
   "source": [
    "# 9 - Create a two dimensional array\n",
    "# https://numpy.org/doc/stable/reference/generated/numpy.array.html\n",
    "two_d_arr = np.array([[1,2,3,4,5],[11,22,33,44,55]])\n",
    "two_d_arr"
   ]
  },
  {
   "cell_type": "code",
   "execution_count": 45,
   "metadata": {},
   "outputs": [
    {
     "data": {
      "text/plain": [
       "array([[ 0,  1,  2,  3,  4,  5,  6,  7,  8,  9],\n",
       "       [10, 11, 12, 13, 14, 15, 16, 17, 18, 19]])"
      ]
     },
     "execution_count": 45,
     "metadata": {},
     "output_type": "execute_result"
    }
   ],
   "source": [
    "# 9 - Create a two dimensional array\n",
    "x = np.arange(10)\n",
    "x\n",
    "y = np.arange(10,20)\n",
    "y\n",
    "two_d_arr = np.array([x,y])\n",
    "two_d_arr"
   ]
  },
  {
   "cell_type": "code",
   "execution_count": 53,
   "metadata": {},
   "outputs": [
    {
     "data": {
      "text/plain": [
       "array([[0.95553775, 0.51964908, 0.22350665, 0.81285491, 0.60640809],\n",
       "       [0.80377518, 0.38697976, 0.64625894, 0.30863401, 0.82516182]])"
      ]
     },
     "execution_count": 53,
     "metadata": {},
     "output_type": "execute_result"
    }
   ],
   "source": [
    "# 9 - Create a two dimensional array\n",
    "# https://numpy.org/doc/stable/reference/random/index.html\n",
    "x = np.random.rand(10).reshape(2,5)\n",
    "x"
   ]
  },
  {
   "cell_type": "code",
   "execution_count": 54,
   "metadata": {},
   "outputs": [
    {
     "data": {
      "text/plain": [
       "array([[[0, 1],\n",
       "        [2, 3]],\n",
       "\n",
       "       [[4, 5],\n",
       "        [6, 7]]])"
      ]
     },
     "execution_count": 54,
     "metadata": {},
     "output_type": "execute_result"
    }
   ],
   "source": [
    "# 10 - Create a three dimensional array\n",
    "three_d_arr = np.arange(8).reshape(2,2,2)\n",
    "three_d_arr\n"
   ]
  },
  {
   "cell_type": "code",
   "execution_count": 61,
   "metadata": {},
   "outputs": [
    {
     "data": {
      "text/plain": [
       "array([[[1, 2, 3],\n",
       "        [4, 5, 6]],\n",
       "\n",
       "       [[6, 5, 4],\n",
       "        [3, 2, 1]]])"
      ]
     },
     "execution_count": 61,
     "metadata": {},
     "output_type": "execute_result"
    }
   ],
   "source": [
    "# 10 - Create a three dimensional array\n",
    "three_d_arr = np.array([ [[1,2,3],[4,5,6]], [[6,5,4],[3,2,1]] ])\n",
    "three_d_arr"
   ]
  },
  {
   "cell_type": "code",
   "execution_count": 62,
   "metadata": {},
   "outputs": [
    {
     "data": {
      "text/plain": [
       "array([[[0.59409984, 0.18378778, 0.01446873],\n",
       "        [0.0275978 , 0.28873459, 0.87136217],\n",
       "        [0.05968443, 0.33016941, 0.95182061]],\n",
       "\n",
       "       [[0.56502682, 0.15803391, 0.22493604],\n",
       "        [0.27812862, 0.7063894 , 0.11457672],\n",
       "        [0.06437019, 0.30913878, 0.38537361]],\n",
       "\n",
       "       [[0.15678473, 0.69662343, 0.75658364],\n",
       "        [0.82043192, 0.810045  , 0.11737452],\n",
       "        [0.90799032, 0.04251439, 0.12049618]]])"
      ]
     },
     "execution_count": 62,
     "metadata": {},
     "output_type": "execute_result"
    }
   ],
   "source": [
    "# 10 - Create a three dimensional array\n",
    "three_d_arr = np.random.rand(27).reshape(3,3,3)\n",
    "three_d_arr"
   ]
  },
  {
   "cell_type": "code",
   "execution_count": 70,
   "metadata": {},
   "outputs": [
    {
     "name": "stdout",
     "output_type": "stream",
     "text": [
      "Orignal Array\n",
      "[0 1 2 3 4 5 6 7 8 9]\n",
      "Reversed Array\n",
      "[9 8 7 6 5 4 3 2 1 0]\n"
     ]
    }
   ],
   "source": [
    "# 11 Reverse a vector (first element becomes last)\n",
    "arr = np.arange(10)\n",
    "print('Orignal Array')\n",
    "print(arr)\n",
    "rev_arr = np.flip(arr)\n",
    "print('Reversed Array')\n",
    "print(rev_arr)"
   ]
  },
  {
   "cell_type": "code",
   "execution_count": 84,
   "metadata": {},
   "outputs": [
    {
     "name": "stdout",
     "output_type": "stream",
     "text": [
      "--------ORIGNAL----------\n",
      "[[[ 0  1  2  3]\n",
      "  [ 4  5  6  7]\n",
      "  [ 8  9 10 11]\n",
      "  [12 13 14 15]]\n",
      "\n",
      " [[16 17 18 19]\n",
      "  [20 21 22 23]\n",
      "  [24 25 26 27]\n",
      "  [28 29 30 31]]]\n",
      "-----WITHOUT AXIS PARAMS------\n",
      "[[[31 30 29 28]\n",
      "  [27 26 25 24]\n",
      "  [23 22 21 20]\n",
      "  [19 18 17 16]]\n",
      "\n",
      " [[15 14 13 12]\n",
      "  [11 10  9  8]\n",
      "  [ 7  6  5  4]\n",
      "  [ 3  2  1  0]]]\n",
      "--------DEPTH WISE----------\n",
      "[[[16 17 18 19]\n",
      "  [20 21 22 23]\n",
      "  [24 25 26 27]\n",
      "  [28 29 30 31]]\n",
      "\n",
      " [[ 0  1  2  3]\n",
      "  [ 4  5  6  7]\n",
      "  [ 8  9 10 11]\n",
      "  [12 13 14 15]]]\n",
      "--------ROW WISE----------\n",
      "[[[12 13 14 15]\n",
      "  [ 8  9 10 11]\n",
      "  [ 4  5  6  7]\n",
      "  [ 0  1  2  3]]\n",
      "\n",
      " [[28 29 30 31]\n",
      "  [24 25 26 27]\n",
      "  [20 21 22 23]\n",
      "  [16 17 18 19]]]\n",
      "--------COLUMN WISE----------\n",
      "[[[ 3  2  1  0]\n",
      "  [ 7  6  5  4]\n",
      "  [11 10  9  8]\n",
      "  [15 14 13 12]]\n",
      "\n",
      " [[19 18 17 16]\n",
      "  [23 22 21 20]\n",
      "  [27 26 25 24]\n",
      "  [31 30 29 28]]]\n"
     ]
    }
   ],
   "source": [
    "# 11 Reverse a vector (first element becomes last)\n",
    "# https://numpy.org/doc/stable/reference/generated/numpy.flip.html\n",
    "arr = np.arange(32).reshape(2,4,4)\n",
    "print('--------ORIGNAL----------')\n",
    "print(arr)\n",
    "rev_arr = np.flip(arr)\n",
    "print('-----WITHOUT AXIS PARAMS------')\n",
    "print(rev_arr)\n",
    "rev_arr_0 = np.flip(arr,0)\n",
    "print('--------DEPTH WISE----------')\n",
    "print(rev_arr_0)\n",
    "rev_arr_1 = np.flip(arr,1)\n",
    "print('--------ROW WISE----------')\n",
    "print(rev_arr_1)\n",
    "rev_arr_1 = np.flip(arr,2)\n",
    "print('--------COLUMN WISE----------')\n",
    "print(rev_arr_1)"
   ]
  },
  {
   "cell_type": "code",
   "execution_count": 87,
   "metadata": {},
   "outputs": [
    {
     "data": {
      "text/plain": [
       "array([0, 0, 0, 0, 1, 0, 0, 0, 0, 0])"
      ]
     },
     "execution_count": 87,
     "metadata": {},
     "output_type": "execute_result"
    }
   ],
   "source": [
    "# 12 - Create a null vector of size 10 but the fifth value which is 1\n",
    "x = np.zeros(10, dtype=int)\n",
    "x[4] = 1\n",
    "x"
   ]
  },
  {
   "cell_type": "code",
   "execution_count": 98,
   "metadata": {},
   "outputs": [
    {
     "data": {
      "text/plain": [
       "array([[1, 0, 0],\n",
       "       [0, 1, 0],\n",
       "       [0, 0, 1]])"
      ]
     },
     "execution_count": 98,
     "metadata": {},
     "output_type": "execute_result"
    }
   ],
   "source": [
    "# 13 - Create a 3x3 identity matrix\n",
    "# https://numpy.org/doc/stable/reference/generated/numpy.identity.html\n",
    "x = np.identity(3, dtype=int)\n",
    "x"
   ]
  },
  {
   "cell_type": "code",
   "execution_count": 103,
   "metadata": {},
   "outputs": [
    {
     "data": {
      "text/plain": [
       "array([1., 2., 3., 4., 5.])"
      ]
     },
     "execution_count": 103,
     "metadata": {},
     "output_type": "execute_result"
    }
   ],
   "source": [
    "# 14 - Change data type from int to float. arr = np.array([1, 2, 3, 4, 5])\n",
    "arr = np.array([1, 2, 3, 4, 5], dtype= float)\n",
    "arr"
   ]
  },
  {
   "cell_type": "code",
   "execution_count": 105,
   "metadata": {},
   "outputs": [
    {
     "data": {
      "text/plain": [
       "array([[ 0.,  8.,  3.],\n",
       "       [28., 10., 72.]])"
      ]
     },
     "execution_count": 105,
     "metadata": {},
     "output_type": "execute_result"
    }
   ],
   "source": [
    " # 15 - Multiplication of Arrays\n",
    "    \n",
    "arr1 = np.array([[1., 2., 3.],[4., 5., 6.]])  \n",
    "arr2 = np.array([[0., 4., 1.],[7., 2., 12.]])\n",
    "product_arr = arr1 * arr2\n",
    "product_arr"
   ]
  },
  {
   "cell_type": "code",
   "execution_count": 108,
   "metadata": {},
   "outputs": [
    {
     "name": "stdout",
     "output_type": "stream",
     "text": [
      "[[False False False]\n",
      " [False False False]]\n",
      "False\n"
     ]
    }
   ],
   "source": [
    "# 16 - Make an array by comparing both the arrays provided above\n",
    "arr1 = np.array([[1., 2., 3.], [4., 5., 6.]]) \n",
    "arr2 = np.array([[0., 4., 1.], [7., 2., 12.]])\n",
    "comparision = arr1 == arr2\n",
    "new_arr = comparision.all()\n",
    "print(comparision)\n",
    "print(new_arr)\n"
   ]
  },
  {
   "cell_type": "code",
   "execution_count": 112,
   "metadata": {},
   "outputs": [
    {
     "name": "stdout",
     "output_type": "stream",
     "text": [
      "[ True  True  True  True]\n",
      "isArraysEquals = True\n"
     ]
    }
   ],
   "source": [
    "# 16 - Make an array by comparing both the arrays provided above\n",
    "x = np.arange(4)\n",
    "y = np.arange(4)\n",
    "com = x == y\n",
    "print(com)\n",
    "print('isArraysEquals =' , com.all())"
   ]
  },
  {
   "cell_type": "code",
   "execution_count": 113,
   "metadata": {},
   "outputs": [
    {
     "data": {
      "text/plain": [
       "array([1, 3, 5, 7, 9])"
      ]
     },
     "execution_count": 113,
     "metadata": {},
     "output_type": "execute_result"
    }
   ],
   "source": [
    "# 17 - Extract all odd numbers from arr with values(0-9)\n",
    "x = np.arange(10)\n",
    "x[x % 2 == 1]"
   ]
  },
  {
   "cell_type": "code",
   "execution_count": 115,
   "metadata": {},
   "outputs": [
    {
     "data": {
      "text/plain": [
       "array([ 0, -1,  2, -1,  4, -1,  6, -1,  8, -1])"
      ]
     },
     "execution_count": 115,
     "metadata": {},
     "output_type": "execute_result"
    }
   ],
   "source": [
    "# 18 - Replace all odd numbers to -1 from previous array\n",
    "x [x % 2 == 1] = -1\n",
    "x"
   ]
  },
  {
   "cell_type": "code",
   "execution_count": 118,
   "metadata": {},
   "outputs": [
    {
     "data": {
      "text/plain": [
       "array([ 0,  1,  2,  3,  4, 12, 12, 12, 12,  9])"
      ]
     },
     "execution_count": 118,
     "metadata": {},
     "output_type": "execute_result"
    }
   ],
   "source": [
    "# 19 - Replace the values of indexes 5,6,7 and 8 to 12\n",
    "arr = np.arange(10)\n",
    "arr[5:9] = 12\n",
    "arr"
   ]
  },
  {
   "cell_type": "code",
   "execution_count": 124,
   "metadata": {},
   "outputs": [
    {
     "data": {
      "text/plain": [
       "array([[1, 1, 1, 1],\n",
       "       [1, 0, 0, 1],\n",
       "       [1, 0, 0, 1],\n",
       "       [1, 1, 1, 1]])"
      ]
     },
     "execution_count": 124,
     "metadata": {},
     "output_type": "execute_result"
    }
   ],
   "source": [
    "# 20 - Create a 2d array with 1 on the border and 0 inside\n",
    "two_d_arr = np.ones(16, dtype= int).reshape(4,4)\n",
    "two_d_arr[1:3,1:3] = 0\n",
    "two_d_arr"
   ]
  },
  {
   "cell_type": "code",
   "execution_count": 129,
   "metadata": {},
   "outputs": [
    {
     "data": {
      "text/plain": [
       "array([[1, 1, 1, 1, 1],\n",
       "       [1, 0, 0, 0, 1],\n",
       "       [1, 0, 0, 0, 1],\n",
       "       [1, 0, 0, 0, 1],\n",
       "       [1, 0, 0, 0, 1],\n",
       "       [1, 0, 0, 0, 1],\n",
       "       [1, 0, 0, 0, 1],\n",
       "       [1, 0, 0, 0, 1],\n",
       "       [1, 1, 1, 1, 1]])"
      ]
     },
     "execution_count": 129,
     "metadata": {},
     "output_type": "execute_result"
    }
   ],
   "source": [
    "# 20 - Create a 2d array with 1 on the border and 0 inside\n",
    "two_d_arr = np.ones(45, dtype= int).reshape(9,5)\n",
    "two_d_arr[1:8,1:4] = 0\n",
    "two_d_arr"
   ]
  },
  {
   "cell_type": "code",
   "execution_count": 131,
   "metadata": {},
   "outputs": [
    {
     "data": {
      "text/plain": [
       "array([[ 1,  2,  3],\n",
       "       [ 4, 12,  6],\n",
       "       [ 7,  8,  9]])"
      ]
     },
     "execution_count": 131,
     "metadata": {},
     "output_type": "execute_result"
    }
   ],
   "source": [
    "# 21 - Replace the value 5 to 12\n",
    "arr2d = np.array([[1, 2, 3],[4, 5, 6],[7, 8, 9]])\n",
    "arr2d[1:2,1:2] = 12\n",
    "arr2d"
   ]
  },
  {
   "cell_type": "code",
   "execution_count": 133,
   "metadata": {},
   "outputs": [
    {
     "data": {
      "text/plain": [
       "array([[12, 12, 12],\n",
       "       [12,  5, 12],\n",
       "       [12, 12, 12]])"
      ]
     },
     "execution_count": 133,
     "metadata": {},
     "output_type": "execute_result"
    }
   ],
   "source": [
    "# 21 - Replace the value other than 5 to 12 (bare operator just for practice)\n",
    "arr2d = np.array([[1, 2, 3],[4, 5, 6],[7, 8, 9]])\n",
    "arr2d[:] = 12\n",
    "arr2d[1:2,1:2] = 5\n",
    "arr2d"
   ]
  },
  {
   "cell_type": "code",
   "execution_count": 136,
   "metadata": {},
   "outputs": [
    {
     "data": {
      "text/plain": [
       "array([[[64, 64, 64],\n",
       "        [64, 64, 64]],\n",
       "\n",
       "       [[ 7,  8,  9],\n",
       "        [10, 11, 12]]])"
      ]
     },
     "execution_count": 136,
     "metadata": {},
     "output_type": "execute_result"
    }
   ],
   "source": [
    "# 22 - Convert all the values of 1st array to 64\n",
    "arr3d = np.array([[[1, 2, 3], [4, 5, 6]], [[7, 8, 9], [10, 11, 12]]])\n",
    "arr3d[0] = 64\n",
    "arr3d"
   ]
  },
  {
   "cell_type": "code",
   "execution_count": 14,
   "metadata": {},
   "outputs": [
    {
     "name": "stdout",
     "output_type": "stream",
     "text": [
      "[[0 1 2 3 4]\n",
      " [5 6 7 8 9]]\n"
     ]
    },
    {
     "data": {
      "text/plain": [
       "array([[0, 1, 2, 3, 4]])"
      ]
     },
     "execution_count": 14,
     "metadata": {},
     "output_type": "execute_result"
    }
   ],
   "source": [
    "# 23 - Make a 2-Dimensional array with values 0-9 and slice out the first 1st 1-D array from it\n",
    "arr_2d = np.arange(10).reshape(2,5)\n",
    "print(arr_2d)\n",
    "arr_2d[0:1,:]"
   ]
  },
  {
   "cell_type": "code",
   "execution_count": 16,
   "metadata": {},
   "outputs": [
    {
     "name": "stdout",
     "output_type": "stream",
     "text": [
      "[[0 1 2 3 4]\n",
      " [5 6 7 8 9]]\n"
     ]
    },
    {
     "data": {
      "text/plain": [
       "array([[6]])"
      ]
     },
     "execution_count": 16,
     "metadata": {},
     "output_type": "execute_result"
    }
   ],
   "source": [
    "# 24 - Make a 2-Dimensional array with values 0-9 and slice out the 2nd value from 2nd 1-D array from it\n",
    "arr_2d = np.arange(10).reshape(2,5)\n",
    "print(arr_2d)\n",
    "arr_2d[1:2,1:2]\n"
   ]
  },
  {
   "cell_type": "code",
   "execution_count": 18,
   "metadata": {},
   "outputs": [
    {
     "name": "stdout",
     "output_type": "stream",
     "text": [
      "[[0 1 2 3 4]\n",
      " [5 6 7 8 9]]\n"
     ]
    },
    {
     "data": {
      "text/plain": [
       "array([[2],\n",
       "       [7]])"
      ]
     },
     "execution_count": 18,
     "metadata": {},
     "output_type": "execute_result"
    }
   ],
   "source": [
    "# 25 - Make a 2-Dimensional array with values 0-9 and slice out the third column but only the first two rows\n",
    "arr_2d = np.arange(10).reshape(2,5)\n",
    "print(arr_2d)\n",
    "arr_2d[:, 2:3]"
   ]
  },
  {
   "cell_type": "code",
   "execution_count": 36,
   "metadata": {},
   "outputs": [
    {
     "name": "stdout",
     "output_type": "stream",
     "text": [
      "orignal array is\n",
      "[[0.91355867 0.59505912 0.52049096 0.46587488 0.08618671 0.90115137\n",
      "  0.18042665 0.36721074 0.77230244 0.23714914]\n",
      " [0.24152488 0.5424542  0.51750683 0.05303089 0.21833889 0.73615699\n",
      "  0.63275143 0.80958661 0.54947298 0.55266235]\n",
      " [0.90023938 0.79191431 0.00141912 0.42988357 0.62451999 0.26934526\n",
      "  0.72057256 0.84130555 0.70638    0.42437623]\n",
      " [0.1819006  0.35708851 0.45180328 0.84036387 0.75145611 0.43070242\n",
      "  0.9787761  0.94579606 0.01852585 0.60293324]\n",
      " [0.18628081 0.0745827  0.73685182 0.99117234 0.7309421  0.08945509\n",
      "  0.92685452 0.85701012 0.023939   0.88648326]\n",
      " [0.07742167 0.05694591 0.00698012 0.04505398 0.86888207 0.56040573\n",
      "  0.83159541 0.32572826 0.4903411  0.04491595]\n",
      " [0.63960354 0.92919336 0.81513077 0.04704099 0.39582248 0.55562368\n",
      "  0.59721265 0.43186547 0.95703492 0.37004377]\n",
      " [0.44714261 0.40127401 0.59409852 0.88787842 0.2843205  0.19317591\n",
      "  0.64017495 0.74928394 0.86335905 0.11793294]\n",
      " [0.97587359 0.9557789  0.26734739 0.2099186  0.20553689 0.43179873\n",
      "  0.48296808 0.74043258 0.53270891 0.54536904]\n",
      " [0.40921743 0.73814104 0.7350671  0.15477207 0.92075652 0.66933999\n",
      "  0.93920009 0.75211912 0.47794951 0.32378181]]\n",
      "min value is 0.0014191175710513981\n",
      "max value is 0.9911723426940373\n"
     ]
    }
   ],
   "source": [
    "# 26 - Create a 10x10 array with random values and find the minimum and maximum values\n",
    "rand_arr = np.random.rand(100).reshape(10,10)\n",
    "print('orignal array is')\n",
    "print(rand_arr)\n",
    "print('min value is',rand_arr.min())\n",
    "print('max value is',rand_arr.max())"
   ]
  },
  {
   "cell_type": "code",
   "execution_count": 38,
   "metadata": {},
   "outputs": [
    {
     "data": {
      "text/plain": [
       "array([2, 4])"
      ]
     },
     "execution_count": 38,
     "metadata": {},
     "output_type": "execute_result"
    }
   ],
   "source": [
    "# 27 - Find the common items between a and b\n",
    "a = np.array([1,2,3,2,3,4,3,4,5,6])\n",
    "b = np.array([7,2,10,2,7,4,9,4,9,8])\n",
    "common_items = np.intersect1d(a,b) # https://numpy.org/doc/stable/reference/generated/numpy.intersect1d.html\n",
    "common_items"
   ]
  },
  {
   "cell_type": "code",
   "execution_count": 44,
   "metadata": {},
   "outputs": [
    {
     "data": {
      "text/plain": [
       "(array([2, 4]), array([1, 5], dtype=int64), array([1, 5], dtype=int64))"
      ]
     },
     "execution_count": 44,
     "metadata": {},
     "output_type": "execute_result"
    }
   ],
   "source": [
    "# 28 - Find the positions where elements of a and b match\n",
    "a = np.array([1,2,3,2,3,4,3,4,5,6]) \n",
    "b = np.array([7,2,10,2,7,4,9,4,9,8])\n",
    "common_items = np.intersect1d(a,b , return_indices=True)\n",
    "common_items"
   ]
  },
  {
   "cell_type": "code",
   "execution_count": 45,
   "metadata": {},
   "outputs": [
    {
     "data": {
      "text/plain": [
       "(array([2, 4]), array([1, 5], dtype=int64), array([3, 7], dtype=int64))"
      ]
     },
     "execution_count": 45,
     "metadata": {},
     "output_type": "execute_result"
    }
   ],
   "source": [
    "# 28 - Find the positions where elements of a and b match\n",
    "a = np.array([1,2,3,2,3,4,3,4,5,6]) \n",
    "b = np.array([7,0,10,2,7,0,9,4,9,8])\n",
    "common_indices = np.intersect1d(a,b, return_indices=True)\n",
    "common_indices"
   ]
  },
  {
   "cell_type": "code",
   "execution_count": 55,
   "metadata": {},
   "outputs": [
    {
     "name": "stdout",
     "output_type": "stream",
     "text": [
      "[ True  True False  True False  True  True]\n"
     ]
    },
    {
     "data": {
      "text/plain": [
       "array([[-1.4516847 , -1.37942199, -0.85437413,  0.02127595],\n",
       "       [ 1.06762528, -0.99198121,  0.89859057,  0.16024106],\n",
       "       [-3.28052391,  0.22728993,  1.95606625,  0.54262439],\n",
       "       [-0.81107349, -0.89183468,  0.96105595, -1.06892198],\n",
       "       [-1.81917641, -0.70458202,  0.13226239,  0.37087915]])"
      ]
     },
     "execution_count": 55,
     "metadata": {},
     "output_type": "execute_result"
    }
   ],
   "source": [
    "# 29 - Find all the values from array data where the values from array names are not equal to Will\n",
    "names = np.array(['Bob', 'Joe', 'Will', 'Bob', 'Will', 'Joe', 'Joe'])\n",
    "data = np.random.randn(7, 4)\n",
    "mask = names != 'Will'\n",
    "print(mask)\n",
    "data[mask]"
   ]
  },
  {
   "cell_type": "code",
   "execution_count": 54,
   "metadata": {},
   "outputs": [
    {
     "name": "stdout",
     "output_type": "stream",
     "text": [
      "[ True False False  True False False False]\n"
     ]
    },
    {
     "data": {
      "text/plain": [
       "array([[ 0.57613609,  0.36881912,  0.5623586 , -0.57421729],\n",
       "       [ 0.73775225, -1.46372375, -1.03333689, -0.41828064]])"
      ]
     },
     "execution_count": 54,
     "metadata": {},
     "output_type": "execute_result"
    }
   ],
   "source": [
    "# 30 - Find all the values from array data where the values from array names are not equal to Will and Joe\n",
    "names = np.array(['Bob', 'Joe', 'Will', 'Bob', 'Will', 'Joe', 'Joe'])\n",
    "data = np.random.randn(7, 4)\n",
    "mask = (names != 'Will') & (names != 'Joe')\n",
    "print(mask)\n",
    "data[mask]"
   ]
  },
  {
   "cell_type": "code",
   "execution_count": 56,
   "metadata": {},
   "outputs": [
    {
     "data": {
      "text/plain": [
       "array([[ 1,  2,  3],\n",
       "       [ 4,  5,  6],\n",
       "       [ 7,  8,  9],\n",
       "       [10, 11, 12],\n",
       "       [13, 14, 15]])"
      ]
     },
     "execution_count": 56,
     "metadata": {},
     "output_type": "execute_result"
    }
   ],
   "source": [
    "# 31 - Create a 2D array of shape 5x3 to contain decimal numbers between 1 and 15.\n",
    "two_d_arr = np.arange(1,16).reshape(5,3)\n",
    "two_d_arr\n"
   ]
  },
  {
   "cell_type": "code",
   "execution_count": 57,
   "metadata": {},
   "outputs": [
    {
     "data": {
      "text/plain": [
       "array([[[ 1,  2,  3,  4],\n",
       "        [ 5,  6,  7,  8]],\n",
       "\n",
       "       [[ 9, 10, 11, 12],\n",
       "        [13, 14, 15, 16]]])"
      ]
     },
     "execution_count": 57,
     "metadata": {},
     "output_type": "execute_result"
    }
   ],
   "source": [
    "# 32 - Create an array of shape (2, 2, 4) with decimal numbers between 1 to 16.\n",
    "three_d_arr = np.arange(1,17).reshape(2,2,4)\n",
    "three_d_arr"
   ]
  },
  {
   "cell_type": "code",
   "execution_count": 75,
   "metadata": {},
   "outputs": [
    {
     "data": {
      "text/plain": [
       "array([[[ 1,  5],\n",
       "        [ 2,  6],\n",
       "        [ 3,  7],\n",
       "        [ 4,  8]],\n",
       "\n",
       "       [[ 9, 13],\n",
       "        [10, 14],\n",
       "        [11, 15],\n",
       "        [12, 16]]])"
      ]
     },
     "execution_count": 75,
     "metadata": {},
     "output_type": "execute_result"
    }
   ],
   "source": [
    "# 33 - Swap axes of the array you created in Question 32\n",
    "three_d_arr.swapaxes(1,2) # https://numpy.org/doc/stable/reference/generated/numpy.swapaxes.html"
   ]
  },
  {
   "cell_type": "code",
   "execution_count": 85,
   "metadata": {},
   "outputs": [
    {
     "data": {
      "text/plain": [
       "array([0.88760815, 0.63081287, 0.6004832 , 0.52806609, 0.97233085,\n",
       "       0.67448387, 0.93272107, 0.54924501, 0.72666316, 0.95712908])"
      ]
     },
     "execution_count": 85,
     "metadata": {},
     "output_type": "execute_result"
    }
   ],
   "source": [
    "# 34 - Create an array of size 10, and find the square root of every element in the array, if the values less than 0.5, replace them with 0\n",
    "arr = np.random.rand(10)\n",
    "sqrt_arr = np.sqrt(arr) # https://numpy.org/doc/stable/reference/generated/numpy.sqrt.html\n",
    "sqrt_arr[sqrt_arr < .5] = 0\n",
    "sqrt_arr"
   ]
  },
  {
   "cell_type": "code",
   "execution_count": 96,
   "metadata": {},
   "outputs": [
    {
     "name": "stdout",
     "output_type": "stream",
     "text": [
      "[0.3036315  0.82274183 0.60182166 0.29259655 0.7595963  0.55958659\n",
      " 0.49026742 0.88132891 0.49576594 0.33454351 0.61195616 0.90476714]\n",
      "-------------------------------------------------------------------\n",
      "[0.42484506 0.32424471 0.19092188 0.29103706 0.86477239 0.20561351\n",
      " 0.42019885 0.89365344 0.22047848 0.51946487 0.92113109 0.78981422]\n",
      "-------------------------------------------------------------------\n",
      "Array of Max Numbers of Both Arrays [0.90476714 0.92113109]\n"
     ]
    }
   ],
   "source": [
    "# 35 - Create two random arrays of range 12 and make an array with the maximum values between each element of the two arrays\n",
    "x = np.random.rand(12)\n",
    "y = np.random.rand(12)\n",
    "res = np.array([x.max(), y.max()])\n",
    "print(x)\n",
    "print('-------------------------------------------------------------------')\n",
    "print(y)\n",
    "print('-------------------------------------------------------------------')\n",
    "print('Array of Max Numbers of Both Arrays',res)\n",
    "\n"
   ]
  },
  {
   "cell_type": "code",
   "execution_count": 103,
   "metadata": {},
   "outputs": [
    {
     "name": "stdout",
     "output_type": "stream",
     "text": [
      "['Bob' 'Joe' 'Will']\n"
     ]
    },
    {
     "data": {
      "text/plain": [
       "array(['Bob', 'Joe', 'Will'], dtype='<U4')"
      ]
     },
     "execution_count": 103,
     "metadata": {},
     "output_type": "execute_result"
    }
   ],
   "source": [
    "# 36 - Find the unique names and sort them out!\n",
    "names = np.array(['Will','Bob', 'Joe', 'Will', 'Bob', 'Will', 'Joe', 'Joe'])\n",
    "unq_arr = np.unique(names) # https://numpy.org/doc/stable/reference/generated/numpy.unique.html\n",
    "print(unq_arr)\n",
    "print('It seems unique method is returning after sorting')\n",
    "sorted_arr = np.sort(unq_arr) # https://numpy.org/doc/stable/reference/generated/numpy.sort.html\n",
    "sorted_arr"
   ]
  },
  {
   "cell_type": "code",
   "execution_count": 117,
   "metadata": {},
   "outputs": [
    {
     "data": {
      "text/plain": [
       "array([1, 2, 3, 4])"
      ]
     },
     "execution_count": 117,
     "metadata": {},
     "output_type": "execute_result"
    }
   ],
   "source": [
    "# 37 - From array a remove all items present in array b\n",
    "a = np.array([1,2,3,4,5]) \n",
    "b = np.array([5,6,7,8,9])\n",
    "commonElement = np.intersect1d(a,b, return_indices=True)\n",
    "indexOfCommonElementInFirstArray = commonElement[1][0]\n",
    "result = np.delete(a,indexOfCommonElementInFirstArray ) # https://numpy.org/doc/stable/reference/generated/numpy.delete.html\n",
    "result"
   ]
  },
  {
   "cell_type": "code",
   "execution_count": 126,
   "metadata": {},
   "outputs": [
    {
     "data": {
      "text/plain": [
       "array([[34, 10, 73],\n",
       "       [82, 10, 12],\n",
       "       [53, 10, 66]])"
      ]
     },
     "execution_count": 126,
     "metadata": {},
     "output_type": "execute_result"
    }
   ],
   "source": [
    "# 38 - Following is the input NumPy array delete column two and insert following new column in its place\n",
    "sampleArray = np.array([[34,43,73],[82,22,12],[53,94,66]]) \n",
    "deletedColumnArray = np.delete(sampleArray, 1,1) # https://numpy.org/doc/stable/reference/generated/numpy.delete.html\n",
    "newColumn = np.array([[10,10,10]])\n",
    "result = np.insert(deletedColumnArray,1, newColumn,1) # https://numpy.org/doc/stable/reference/generated/numpy.insert.html\n",
    "result"
   ]
  },
  {
   "cell_type": "code",
   "execution_count": 130,
   "metadata": {},
   "outputs": [
    {
     "data": {
      "text/plain": [
       "array([[ 28.,  64.],\n",
       "       [ 67., 181.]])"
      ]
     },
     "execution_count": 130,
     "metadata": {},
     "output_type": "execute_result"
    }
   ],
   "source": [
    "# 39 - Find the dot product of the above two matrix\n",
    "x = np.array([[1., 2., 3.], [4., 5., 6.]]) \n",
    "y = np.array([[6., 23.], [-1, 7], [8, 9]])\n",
    "# https://numpy.org/doc/stable/reference/generated/numpy.dot.html\n",
    "np.dot(x, y)  # syntax no 1\n",
    "x.dot(y) # syntax no 2\n",
    "x @ y  # syntax no 3\n"
   ]
  },
  {
   "cell_type": "code",
   "execution_count": 153,
   "metadata": {},
   "outputs": [
    {
     "name": "stdout",
     "output_type": "stream",
     "text": [
      "RANDOM NUMBERS\n",
      "[0.70764162 0.2499761  0.13539197 0.85006263 0.09993694 0.2717776\n",
      " 0.94359374 0.84341182 0.28897987 0.37596775 0.623805   0.03175917\n",
      " 0.17986038 0.98059868 0.52248607 0.04257052 0.91726684 0.32006053\n",
      " 0.18153451 0.58263469]\n",
      "\n",
      "\n",
      "CUMULATIVE SUM OF RANDOM NUMBERS\n",
      "[0.70764162 0.95761772 1.09300969 1.94307231 2.04300925 2.31478686\n",
      " 3.25838059 4.10179242 4.39077229 4.76674004 5.39054504 5.42230421\n",
      " 5.60216458 6.58276326 7.10524933 7.14781986 8.0650867  8.38514723\n",
      " 8.56668174 9.14931643]\n",
      "\n",
      "\n",
      "MORE DETAILS ABOUT CUMULATIVE SUM\n",
      "\n",
      "\n",
      "-------------orignal array----------\n",
      "[[0 1 2 3 4]\n",
      " [5 6 7 8 9]]\n",
      "\n",
      "\n",
      "------------cumulative sum ----------\n",
      "[ 0  1  3  6 10 15 21 28 36 45]\n",
      "\n",
      "\n",
      "------row wise cumulative sum -------\n",
      "[[ 0  1  2  3  4]\n",
      " [ 5  7  9 11 13]]\n",
      "\n",
      "\n",
      "------column wise cumulative sum -----\n",
      "[[ 0  1  3  6 10]\n",
      " [ 5 11 18 26 35]]\n"
     ]
    }
   ],
   "source": [
    "# 40 Generate a matrix of 20 random values and find its cumulative sum\n",
    "arr = np.random.rand(20)\n",
    "print('RANDOM NUMBERS')\n",
    "print(arr)\n",
    "print('\\n')\n",
    "print('CUMULATIVE SUM OF RANDOM NUMBERS')\n",
    "print(np.cumsum(arr)) # https://numpy.org/doc/stable/reference/generated/numpy.cumsum.html\n",
    "print('\\n')\n",
    "arr = np.arange(10).reshape(2,5)\n",
    "print('MORE DETAILS ABOUT CUMULATIVE SUM')\n",
    "print('\\n')\n",
    "print('-------------orignal array----------')\n",
    "print(arr)\n",
    "print('\\n')\n",
    "print('------------cumulative sum ----------')\n",
    "print(np.cumsum(arr))\n",
    "print('\\n')\n",
    "print('------row wise cumulative sum -------')\n",
    "print(np.cumsum(arr, axis = 0))\n",
    "print('\\n')\n",
    "print('------column wise cumulative sum -----')\n",
    "print(np.cumsum(arr,axis = 1))"
   ]
  },
  {
   "cell_type": "code",
   "execution_count": null,
   "metadata": {},
   "outputs": [],
   "source": []
  }
 ],
 "metadata": {
  "kernelspec": {
   "display_name": "Python 3",
   "language": "python",
   "name": "python3"
  },
  "language_info": {
   "codemirror_mode": {
    "name": "ipython",
    "version": 3
   },
   "file_extension": ".py",
   "mimetype": "text/x-python",
   "name": "python",
   "nbconvert_exporter": "python",
   "pygments_lexer": "ipython3",
   "version": "3.8.3"
  }
 },
 "nbformat": 4,
 "nbformat_minor": 4
}
