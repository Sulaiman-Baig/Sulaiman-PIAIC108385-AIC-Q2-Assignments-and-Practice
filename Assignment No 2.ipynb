{
 "cells": [
  {
   "cell_type": "code",
   "execution_count": 1,
   "metadata": {},
   "outputs": [
    {
     "name": "stdout",
     "output_type": "stream",
     "text": [
      "Hello, I am going to do Assignment No 2\n"
     ]
    }
   ],
   "source": [
    "print('Hello, I am going to do Assignment No 2')"
   ]
  },
  {
   "cell_type": "code",
   "execution_count": 3,
   "metadata": {},
   "outputs": [
    {
     "name": "stdout",
     "output_type": "stream",
     "text": [
      "Lets put it on GitHub\n"
     ]
    }
   ],
   "source": [
    "print('Lets put it on GitHub')"
   ]
  },
  {
   "cell_type": "code",
   "execution_count": 5,
   "metadata": {},
   "outputs": [
    {
     "data": {
      "text/plain": [
       "array([[0, 1, 2, 3, 4],\n",
       "       [5, 6, 7, 8, 9]])"
      ]
     },
     "execution_count": 5,
     "metadata": {},
     "output_type": "execute_result"
    }
   ],
   "source": [
    "# 1 - Convert a 1D array to a 2D array with 2 rows\n",
    "import numpy as np\n",
    "arr = np.arange(10).reshape(2,5)\n",
    "arr"
   ]
  },
  {
   "cell_type": "code",
   "execution_count": 7,
   "metadata": {},
   "outputs": [
    {
     "name": "stdout",
     "output_type": "stream",
     "text": [
      "[[0 1 2 3 4]\n",
      " [5 6 7 8 9]]\n",
      "[[1. 1. 1. 1. 1.]\n",
      " [1. 1. 1. 1. 1.]]\n"
     ]
    },
    {
     "data": {
      "text/plain": [
       "array([[0., 1., 2., 3., 4.],\n",
       "       [5., 6., 7., 8., 9.],\n",
       "       [1., 1., 1., 1., 1.],\n",
       "       [1., 1., 1., 1., 1.]])"
      ]
     },
     "execution_count": 7,
     "metadata": {},
     "output_type": "execute_result"
    }
   ],
   "source": [
    "# 2 - How to stack two arrays vertically\n",
    "arr1 = np.arange(10).reshape(2,5)\n",
    "print(arr1)\n",
    "arr2 = np.ones(10).reshape(2,5)\n",
    "print(arr2)\n",
    "# https://numpy.org/doc/stable/reference/generated/numpy.vstack.html\n",
    "np.vstack((arr1, arr2))"
   ]
  },
  {
   "cell_type": "code",
   "execution_count": 8,
   "metadata": {},
   "outputs": [
    {
     "name": "stdout",
     "output_type": "stream",
     "text": [
      "[[0 1 2 3 4]\n",
      " [5 6 7 8 9]]\n",
      "[[1. 1. 1. 1. 1.]\n",
      " [1. 1. 1. 1. 1.]]\n"
     ]
    },
    {
     "data": {
      "text/plain": [
       "array([[0., 1., 2., 3., 4., 1., 1., 1., 1., 1.],\n",
       "       [5., 6., 7., 8., 9., 1., 1., 1., 1., 1.]])"
      ]
     },
     "execution_count": 8,
     "metadata": {},
     "output_type": "execute_result"
    }
   ],
   "source": [
    "# 3 - How to stack two arrays horizontally\n",
    "arr1 = np.arange(10).reshape(2,5)\n",
    "print(arr1)\n",
    "arr2 = np.ones(10).reshape(2,5)\n",
    "print(arr2)\n",
    "# https://numpy.org/doc/stable/reference/generated/numpy.hstack.html\n",
    "np.hstack((arr1, arr2))"
   ]
  },
  {
   "cell_type": "code",
   "execution_count": 22,
   "metadata": {},
   "outputs": [
    {
     "name": "stdout",
     "output_type": "stream",
     "text": [
      "[[0 1 2 3 4]\n",
      " [5 6 7 8 9]]\n"
     ]
    },
    {
     "data": {
      "text/plain": [
       "array([0, 1, 2, 3, 4, 5, 6, 7, 8, 9])"
      ]
     },
     "execution_count": 22,
     "metadata": {},
     "output_type": "execute_result"
    }
   ],
   "source": [
    "# 4 - How to convert an array of arrays into a flat 1d array\n",
    "ndarray = np.arange(10).reshape(2,5)\n",
    "print(ndarray)\n",
    "np.ravel(ndarray)"
   ]
  },
  {
   "cell_type": "code",
   "execution_count": 23,
   "metadata": {},
   "outputs": [
    {
     "name": "stdout",
     "output_type": "stream",
     "text": [
      "[[[[ 1  2  3]\n",
      "   [ 4  5  6]\n",
      "   [ 7  8  9]]\n",
      "\n",
      "  [[10 11 12]\n",
      "   [13 14 15]\n",
      "   [16 17 18]]\n",
      "\n",
      "  [[19 20 21]\n",
      "   [22 23 24]\n",
      "   [25 26 27]]]\n",
      "\n",
      "\n",
      " [[[28 29 30]\n",
      "   [31 32 33]\n",
      "   [34 35 36]]\n",
      "\n",
      "  [[37 38 39]\n",
      "   [40 41 42]\n",
      "   [43 44 45]]\n",
      "\n",
      "  [[46 47 48]\n",
      "   [49 50 51]\n",
      "   [52 53 54]]]\n",
      "\n",
      "\n",
      " [[[55 56 57]\n",
      "   [58 59 60]\n",
      "   [61 62 63]]\n",
      "\n",
      "  [[64 65 66]\n",
      "   [67 68 69]\n",
      "   [70 71 72]]\n",
      "\n",
      "  [[73 74 75]\n",
      "   [76 77 78]\n",
      "   [79 80 81]]]]\n"
     ]
    },
    {
     "data": {
      "text/plain": [
       "array([ 1,  2,  3,  4,  5,  6,  7,  8,  9, 10, 11, 12, 13, 14, 15, 16, 17,\n",
       "       18, 19, 20, 21, 22, 23, 24, 25, 26, 27, 28, 29, 30, 31, 32, 33, 34,\n",
       "       35, 36, 37, 38, 39, 40, 41, 42, 43, 44, 45, 46, 47, 48, 49, 50, 51,\n",
       "       52, 53, 54, 55, 56, 57, 58, 59, 60, 61, 62, 63, 64, 65, 66, 67, 68,\n",
       "       69, 70, 71, 72, 73, 74, 75, 76, 77, 78, 79, 80, 81])"
      ]
     },
     "execution_count": 23,
     "metadata": {},
     "output_type": "execute_result"
    }
   ],
   "source": [
    "# 4 - How to convert an array of arrays into a flat 1d array\n",
    "ndarray = np.arange(1,82).reshape(3,3,3,3)\n",
    "print(ndarray)\n",
    "# https://numpy.org/doc/stable/reference/generated/numpy.ravel.html\n",
    "np.ravel(ndarray)"
   ]
  },
  {
   "cell_type": "code",
   "execution_count": 24,
   "metadata": {},
   "outputs": [
    {
     "name": "stdout",
     "output_type": "stream",
     "text": [
      "[[ 0  1  2  3  4]\n",
      " [ 5  6  7  8  9]\n",
      " [10 11 12 13 14]]\n"
     ]
    },
    {
     "data": {
      "text/plain": [
       "array([ 0,  1,  2,  3,  4,  5,  6,  7,  8,  9, 10, 11, 12, 13, 14])"
      ]
     },
     "execution_count": 24,
     "metadata": {},
     "output_type": "execute_result"
    }
   ],
   "source": [
    "# 5 - How to Convert higher dimension into one dimension\n",
    "ndarray = np.arange(15).reshape(3,5)\n",
    "print(ndarray)\n",
    "np.ravel(ndarray)"
   ]
  },
  {
   "cell_type": "code",
   "execution_count": 26,
   "metadata": {},
   "outputs": [
    {
     "name": "stdout",
     "output_type": "stream",
     "text": [
      "[ 0  1  2  3  4  5  6  7  8  9 10 11 12 13 14]\n"
     ]
    },
    {
     "data": {
      "text/plain": [
       "array([[ 0,  1,  2],\n",
       "       [ 3,  4,  5],\n",
       "       [ 6,  7,  8],\n",
       "       [ 9, 10, 11],\n",
       "       [12, 13, 14]])"
      ]
     },
     "execution_count": 26,
     "metadata": {},
     "output_type": "execute_result"
    }
   ],
   "source": [
    "# 6 - Convert one dimension to higher dimension\n",
    "arr = np.arange(15)\n",
    "print(arr)\n",
    "arr.reshape(5,3)"
   ]
  },
  {
   "cell_type": "code",
   "execution_count": 34,
   "metadata": {},
   "outputs": [
    {
     "name": "stdout",
     "output_type": "stream",
     "text": [
      "[[ 0  1  2  3  4]\n",
      " [ 5  6  7  8  9]\n",
      " [10 11 12 13 14]\n",
      " [15 16 17 18 19]\n",
      " [20 21 22 23 24]]\n",
      "\n",
      "\n",
      "Product of array is\n",
      "[[  0   1   4   9  16]\n",
      " [ 25  36  49  64  81]\n",
      " [100 121 144 169 196]\n",
      " [225 256 289 324 361]\n",
      " [400 441 484 529 576]]\n"
     ]
    }
   ],
   "source": [
    "# 7 - Create 5x5 an array and find the square of an array\n",
    "arr = np.arange(25).reshape(5,5)\n",
    "print(arr)\n",
    "prod_arr = arr * arr\n",
    "print('\\n')\n",
    "print('Product of array is')\n",
    "print(prod_arr)"
   ]
  },
  {
   "cell_type": "code",
   "execution_count": 33,
   "metadata": {},
   "outputs": [
    {
     "name": "stdout",
     "output_type": "stream",
     "text": [
      "[[ 0  1  2  3  4  5]\n",
      " [ 6  7  8  9 10 11]\n",
      " [12 13 14 15 16 17]\n",
      " [18 19 20 21 22 23]\n",
      " [24 25 26 27 28 29]]\n",
      "\n",
      "\n",
      "Mean of array is\n",
      "14.5\n"
     ]
    }
   ],
   "source": [
    "# 8 - Create 5x6 an array and find the mean\n",
    "arr = np.arange(30).reshape(5,6)\n",
    "print(arr)\n",
    "# https://numpy.org/doc/stable/reference/generated/numpy.mean.html\n",
    "mean = np.mean(arr)\n",
    "print('\\n')\n",
    "print('Mean of array is')\n",
    "print(mean)"
   ]
  },
  {
   "cell_type": "code",
   "execution_count": 36,
   "metadata": {},
   "outputs": [
    {
     "name": "stdout",
     "output_type": "stream",
     "text": [
      "Standard Deviation of array is\n",
      "7.211102550927978\n"
     ]
    }
   ],
   "source": [
    "# 9 - Find the standard deviation of the previous array in Q8\n",
    "standard_deviation = np.std(arr)# https://numpy.org/doc/stable/reference/generated/numpy.std.html\n",
    "print('Standard Deviation of array is')\n",
    "print(standard_deviation)"
   ]
  },
  {
   "cell_type": "code",
   "execution_count": 38,
   "metadata": {},
   "outputs": [
    {
     "name": "stdout",
     "output_type": "stream",
     "text": [
      "Median of array is\n",
      "12.0\n"
     ]
    }
   ],
   "source": [
    "# 10 - Find the median of the previous array in Q8\n",
    "median = np.median(arr)# https://numpy.org/doc/stable/reference/generated/numpy.median.html#:~:text=If%20out%20is%20specified%2C%20that%20array%20is%20returned%20instead.&text=Given%20a%20vector%20V%20of,V_sorted%20when%20N%20is%20even.\n",
    "print('Median of array is')\n",
    "print(median)"
   ]
  },
  {
   "cell_type": "code",
   "execution_count": 40,
   "metadata": {},
   "outputs": [
    {
     "name": "stdout",
     "output_type": "stream",
     "text": [
      "Transpose of array is\n",
      "[[ 0  5 10 15 20]\n",
      " [ 1  6 11 16 21]\n",
      " [ 2  7 12 17 22]\n",
      " [ 3  8 13 18 23]\n",
      " [ 4  9 14 19 24]]\n"
     ]
    }
   ],
   "source": [
    "# 11 - Find the transpose of the previous array in Q8\n",
    "transpose = np.transpose(arr)# https://numpy.org/doc/stable/reference/generated/numpy.transpose.html\n",
    "print('Transpose of array is')\n",
    "print(transpose)"
   ]
  },
  {
   "cell_type": "code",
   "execution_count": 53,
   "metadata": {},
   "outputs": [
    {
     "name": "stdout",
     "output_type": "stream",
     "text": [
      "[[ 1  2  3  4]\n",
      " [ 5  6  7  8]\n",
      " [ 9 10 11 12]\n",
      " [13 14 15 16]]\n",
      "\n",
      "\n",
      "diagonal elements are\n",
      "[ 1  6 11 16]\n",
      "\n",
      "\n",
      "product of diagonal elements is\n",
      "1056\n"
     ]
    }
   ],
   "source": [
    "# 12 - Create a 4x4 an array and find the sum of diagonal elements\n",
    "arr = np.arange(1,17).reshape(4,4)\n",
    "print(arr)\n",
    "print('\\n')\n",
    "print('diagonal elements are')\n",
    "print(arr.diagonal()) # https://numpy.org/doc/stable/reference/generated/numpy.diagonal.html\n",
    "print('\\n')\n",
    "print('product of diagonal elements is')\n",
    "print(arr.diagonal().prod())"
   ]
  },
  {
   "cell_type": "code",
   "execution_count": 54,
   "metadata": {},
   "outputs": [
    {
     "data": {
      "text/plain": [
       "0.0"
      ]
     },
     "execution_count": 54,
     "metadata": {},
     "output_type": "execute_result"
    }
   ],
   "source": [
    "# 13 - Find the determinant of the previous array in Q12\n",
    "np.linalg.det(arr)"
   ]
  },
  {
   "cell_type": "code",
   "execution_count": 59,
   "metadata": {},
   "outputs": [
    {
     "name": "stdout",
     "output_type": "stream",
     "text": [
      "5 th percentile is\n",
      "5.95\n",
      "\n",
      "\n",
      "95 th percentile is\n",
      "95.05\n"
     ]
    }
   ],
   "source": [
    "# 14 Find the 5th and 95th percentile of an array\n",
    "arr = np.arange(1,101)\n",
    "# https://numpy.org/doc/stable/reference/generated/numpy.percentile.html#:~:text=Compute%20the%20q%2Dth%20percentile,s)%20of%20the%20array%20elements.&text=If%20True%2C%20then%20allow%20the,intermediate%20calculations%2C%20to%20save%20memory.\n",
    "percentile = np.percentile(arr, 5)\n",
    "print('5 th percentile is')\n",
    "print(percentile)\n",
    "print('\\n')\n",
    "percentile = np.percentile(arr, 95)\n",
    "print('95 th percentile is')\n",
    "print(percentile)"
   ]
  },
  {
   "cell_type": "code",
   "execution_count": 82,
   "metadata": {},
   "outputs": [
    {
     "name": "stdout",
     "output_type": "stream",
     "text": [
      "Yes, We have NaN in the array\n"
     ]
    }
   ],
   "source": [
    "# 15 - How to find if a given array has any null values\n",
    "arr = np.array([4.,6,7,3,8,56,23])\n",
    "arrr = np.insert(arr,2,np.NaN)\n",
    "sum_arr = np.sum(arrr)\n",
    "nan = np.isnan(sum_arr)\n",
    "if (nan == True):\n",
    "    print('Yes, We have NaN in the array')\n",
    "else:\n",
    "    print('No, We dont have NaN in the array')    \n"
   ]
  },
  {
   "cell_type": "code",
   "execution_count": null,
   "metadata": {},
   "outputs": [],
   "source": []
  }
 ],
 "metadata": {
  "kernelspec": {
   "display_name": "Python 3",
   "language": "python",
   "name": "python3"
  },
  "language_info": {
   "codemirror_mode": {
    "name": "ipython",
    "version": 3
   },
   "file_extension": ".py",
   "mimetype": "text/x-python",
   "name": "python",
   "nbconvert_exporter": "python",
   "pygments_lexer": "ipython3",
   "version": "3.8.3"
  }
 },
 "nbformat": 4,
 "nbformat_minor": 4
}
